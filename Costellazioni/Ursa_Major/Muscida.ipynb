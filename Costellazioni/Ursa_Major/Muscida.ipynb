{
 "cells": [
  {
   "cell_type": "markdown",
   "id": "bf5e976d",
   "metadata": {},
   "source": [
    "# Muscida - Omicron [Ursae Majoris](Index.html)"
   ]
  },
  {
   "cell_type": "markdown",
   "id": "64b38558",
   "metadata": {},
   "source": [
    "## Descrizione"
   ]
  },
  {
   "cell_type": "markdown",
   "id": "74601b17",
   "metadata": {},
   "source": []
  },
  {
   "cell_type": "markdown",
   "id": "8cfe378b",
   "metadata": {},
   "source": [
    "## Classificazione"
   ]
  },
  {
   "cell_type": "markdown",
   "id": "24944e6f",
   "metadata": {},
   "source": [
    "Classificazione Simbad: G5IIIn"
   ]
  },
  {
   "cell_type": "markdown",
   "id": "ba35c3ef",
   "metadata": {},
   "source": [
    "## Osservazioni"
   ]
  },
  {
   "cell_type": "markdown",
   "id": "151f23f0",
   "metadata": {},
   "source": [
    "- [16/06/2024](../../Osservazioni/20240616/Muscida.html)\n",
    "- [11/07/2024](../../Osservazioni/20240711/Muscida.html)"
   ]
  }
 ],
 "metadata": {
  "kernelspec": {
   "display_name": "Python 3 (ipykernel)",
   "language": "python",
   "name": "python3"
  },
  "language_info": {
   "codemirror_mode": {
    "name": "ipython",
    "version": 3
   },
   "file_extension": ".py",
   "mimetype": "text/x-python",
   "name": "python",
   "nbconvert_exporter": "python",
   "pygments_lexer": "ipython3",
   "version": "3.11.5"
  }
 },
 "nbformat": 4,
 "nbformat_minor": 5
}
