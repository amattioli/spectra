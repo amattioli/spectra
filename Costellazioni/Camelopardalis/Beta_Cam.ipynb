{
 "cells": [
  {
   "cell_type": "markdown",
   "id": "4262ce5c",
   "metadata": {},
   "source": [
    "# Beta [Camelopardalis](Index.html)"
   ]
  },
  {
   "cell_type": "markdown",
   "id": "762cadb1",
   "metadata": {},
   "source": [
    "## Descrizione"
   ]
  },
  {
   "cell_type": "code",
   "execution_count": null,
   "id": "fddfd98d",
   "metadata": {},
   "outputs": [],
   "source": []
  },
  {
   "cell_type": "markdown",
   "id": "d7ffb5c3",
   "metadata": {},
   "source": [
    "## Classificazione"
   ]
  },
  {
   "cell_type": "markdown",
   "id": "eee4fa5b",
   "metadata": {},
   "source": [
    "Classificazione Simbad: G1Ib"
   ]
  },
  {
   "cell_type": "markdown",
   "id": "83b494d1",
   "metadata": {},
   "source": [
    "## Osservazioni"
   ]
  },
  {
   "cell_type": "markdown",
   "id": "4e0695a7",
   "metadata": {},
   "source": [
    "- [27/04/2024](../../Osservazioni/20240427/Beta_Cam.html)\n",
    "- [04/05/2024](../../Osservazioni/20240504/Beta_Cam.html)\n",
    "- [10/05/2024](../../Osservazioni/20240510/Beta_Cam.html)"
   ]
  }
 ],
 "metadata": {
  "kernelspec": {
   "display_name": "Python 3 (ipykernel)",
   "language": "python",
   "name": "python3"
  },
  "language_info": {
   "codemirror_mode": {
    "name": "ipython",
    "version": 3
   },
   "file_extension": ".py",
   "mimetype": "text/x-python",
   "name": "python",
   "nbconvert_exporter": "python",
   "pygments_lexer": "ipython3",
   "version": "3.11.5"
  }
 },
 "nbformat": 4,
 "nbformat_minor": 5
}
