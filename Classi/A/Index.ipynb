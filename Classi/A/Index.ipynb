{
 "cells": [
  {
   "cell_type": "markdown",
   "id": "016050b8",
   "metadata": {},
   "source": [
    "# Classe A"
   ]
  },
  {
   "cell_type": "markdown",
   "id": "1f09b905",
   "metadata": {},
   "source": [
    "## A0"
   ]
  },
  {
   "cell_type": "markdown",
   "id": "4c4d0593",
   "metadata": {},
   "source": [
    "- [CE Camelopardalis](../../Costellazioni/Camelopardalis/CE_Cam.html) A0Ia\n",
    "- [HR 2209](../../Costellazioni/Camelopardalis/HR2209.html) A0Vn\n",
    "- [Cor Caroli](../../Costellazioni/Canes_Venatici/Cor_Caroli.html) A0VpSiEu"
   ]
  },
  {
   "cell_type": "markdown",
   "id": "79eb35d6",
   "metadata": {},
   "source": [
    "## A1"
   ]
  },
  {
   "cell_type": "markdown",
   "id": "205f5570",
   "metadata": {},
   "source": [
    "## A2"
   ]
  },
  {
   "cell_type": "markdown",
   "id": "21b8b60a",
   "metadata": {},
   "source": [
    "- [Gamma Camelopardalis](../../Costellazioni/Camelopardalis/Gamma_Cam.html) A2IVn\n",
    "- [2 Lyn](../../Costellazioni/Lynx/2_Lyn.html) A2Vs"
   ]
  },
  {
   "cell_type": "markdown",
   "id": "02f43633",
   "metadata": {},
   "source": [
    "## A3"
   ]
  },
  {
   "cell_type": "markdown",
   "id": "5bc9b999",
   "metadata": {},
   "source": [
    "## A4"
   ]
  },
  {
   "cell_type": "markdown",
   "id": "bde0dca3",
   "metadata": {},
   "source": [
    "## A5"
   ]
  },
  {
   "cell_type": "markdown",
   "id": "cc376c12",
   "metadata": {},
   "source": [
    "## A6"
   ]
  },
  {
   "cell_type": "markdown",
   "id": "a7e00b81",
   "metadata": {},
   "source": [
    "## A7"
   ]
  },
  {
   "cell_type": "markdown",
   "id": "6b470476",
   "metadata": {},
   "source": [
    "## A8"
   ]
  },
  {
   "cell_type": "markdown",
   "id": "f46edb23",
   "metadata": {},
   "source": [
    "## A9"
   ]
  }
 ],
 "metadata": {
  "kernelspec": {
   "display_name": "Python 3 (ipykernel)",
   "language": "python",
   "name": "python3"
  },
  "language_info": {
   "codemirror_mode": {
    "name": "ipython",
    "version": 3
   },
   "file_extension": ".py",
   "mimetype": "text/x-python",
   "name": "python",
   "nbconvert_exporter": "python",
   "pygments_lexer": "ipython3",
   "version": "3.11.5"
  }
 },
 "nbformat": 4,
 "nbformat_minor": 5
}
