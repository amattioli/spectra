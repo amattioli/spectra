{
 "cells": [
  {
   "cell_type": "markdown",
   "id": "9191172b",
   "metadata": {},
   "source": [
    "# Osservazioni"
   ]
  },
  {
   "cell_type": "markdown",
   "id": "cc2a03eb",
   "metadata": {},
   "source": [
    "- [27/04/2024](20240427/Index.html)\n",
    "- [28/04/2024](20240428/Index.html)"
   ]
  },
  {
   "cell_type": "code",
   "execution_count": null,
   "id": "6aad1311",
   "metadata": {},
   "outputs": [],
   "source": []
  }
 ],
 "metadata": {
  "kernelspec": {
   "display_name": "Python 3 (ipykernel)",
   "language": "python",
   "name": "python3"
  },
  "language_info": {
   "codemirror_mode": {
    "name": "ipython",
    "version": 3
   },
   "file_extension": ".py",
   "mimetype": "text/x-python",
   "name": "python",
   "nbconvert_exporter": "python",
   "pygments_lexer": "ipython3",
   "version": "3.11.5"
  }
 },
 "nbformat": 4,
 "nbformat_minor": 5
}
