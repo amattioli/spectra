{
 "cells": [
  {
   "cell_type": "markdown",
   "id": "0f5c1539",
   "metadata": {},
   "source": [
    "# Osservazioni del 16/06/2024"
   ]
  },
  {
   "cell_type": "markdown",
   "id": "1d4dc75a",
   "metadata": {},
   "source": [
    "## Setup"
   ]
  },
  {
   "cell_type": "markdown",
   "id": "2704ddc3",
   "metadata": {},
   "source": [
    "- Ottica: Celestron C8\n",
    "- Montatura: iOptron CEM70\n",
    "- Camera: ZWO ASI533MM Pro\n",
    "- Guida: ZWO 30F4 + ASI585MC\n",
    "- Spettroscopio: Star Analyser 200 + Grism"
   ]
  },
  {
   "cell_type": "markdown",
   "id": "09aa000c",
   "metadata": {},
   "source": [
    "## Osservazioni"
   ]
  },
  {
   "cell_type": "markdown",
   "id": "1c2b88b2",
   "metadata": {},
   "source": [
    "- [Muscida - Omicron UMa](Muscida.html)"
   ]
  }
 ],
 "metadata": {
  "kernelspec": {
   "display_name": "Python 3 (ipykernel)",
   "language": "python",
   "name": "python3"
  },
  "language_info": {
   "codemirror_mode": {
    "name": "ipython",
    "version": 3
   },
   "file_extension": ".py",
   "mimetype": "text/x-python",
   "name": "python",
   "nbconvert_exporter": "python",
   "pygments_lexer": "ipython3",
   "version": "3.11.5"
  }
 },
 "nbformat": 4,
 "nbformat_minor": 5
}
