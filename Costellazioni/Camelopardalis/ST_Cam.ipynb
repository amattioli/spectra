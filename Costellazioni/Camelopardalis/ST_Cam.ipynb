{
 "cells": [
  {
   "cell_type": "markdown",
   "id": "4d1600f9",
   "metadata": {},
   "source": [
    "# ST Camelopardalis"
   ]
  },
  {
   "cell_type": "markdown",
   "id": "4738cf19",
   "metadata": {},
   "source": [
    "## Descrizione"
   ]
  },
  {
   "cell_type": "markdown",
   "id": "4026439d",
   "metadata": {},
   "source": []
  },
  {
   "cell_type": "markdown",
   "id": "aa41b74c",
   "metadata": {},
   "source": [
    "## Classificazione"
   ]
  },
  {
   "cell_type": "markdown",
   "id": "e25293b8",
   "metadata": {},
   "source": [
    "Classificazione Simbad: C-N5 B"
   ]
  },
  {
   "cell_type": "markdown",
   "id": "ce97af9c",
   "metadata": {},
   "source": [
    "## Osservazioni"
   ]
  },
  {
   "cell_type": "markdown",
   "id": "474c3f2e",
   "metadata": {},
   "source": [
    "- [10/05/2024](../../Osservazioni/20240510/ST_Cam.html)"
   ]
  }
 ],
 "metadata": {
  "kernelspec": {
   "display_name": "Python 3 (ipykernel)",
   "language": "python",
   "name": "python3"
  },
  "language_info": {
   "codemirror_mode": {
    "name": "ipython",
    "version": 3
   },
   "file_extension": ".py",
   "mimetype": "text/x-python",
   "name": "python",
   "nbconvert_exporter": "python",
   "pygments_lexer": "ipython3",
   "version": "3.11.5"
  }
 },
 "nbformat": 4,
 "nbformat_minor": 5
}
