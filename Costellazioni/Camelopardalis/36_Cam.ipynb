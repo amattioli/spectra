{
 "cells": [
  {
   "cell_type": "markdown",
   "id": "9a1abb2a",
   "metadata": {},
   "source": [
    "# 36 [Camelopardalis](Index.html)"
   ]
  },
  {
   "cell_type": "markdown",
   "id": "9e2de550",
   "metadata": {},
   "source": [
    "## Descrizione"
   ]
  },
  {
   "cell_type": "code",
   "execution_count": null,
   "id": "cb747586",
   "metadata": {},
   "outputs": [],
   "source": []
  },
  {
   "cell_type": "markdown",
   "id": "52faf0ba",
   "metadata": {},
   "source": [
    "## Classificazione"
   ]
  },
  {
   "cell_type": "markdown",
   "id": "a8b682b4",
   "metadata": {},
   "source": [
    "Classificazione Simbad: K1III-IIIbCH-0.5"
   ]
  },
  {
   "cell_type": "markdown",
   "id": "e5c1bb60",
   "metadata": {},
   "source": [
    "## Osservazioni"
   ]
  },
  {
   "cell_type": "markdown",
   "id": "5d3f8edc",
   "metadata": {},
   "source": [
    "- [04/05/2024](../../Osservazioni/20240504/36_Cam.html)"
   ]
  }
 ],
 "metadata": {
  "kernelspec": {
   "display_name": "Python 3 (ipykernel)",
   "language": "python",
   "name": "python3"
  },
  "language_info": {
   "codemirror_mode": {
    "name": "ipython",
    "version": 3
   },
   "file_extension": ".py",
   "mimetype": "text/x-python",
   "name": "python",
   "nbconvert_exporter": "python",
   "pygments_lexer": "ipython3",
   "version": "3.11.5"
  }
 },
 "nbformat": 4,
 "nbformat_minor": 5
}
