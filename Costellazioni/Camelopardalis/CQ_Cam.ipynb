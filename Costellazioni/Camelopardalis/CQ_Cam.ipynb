{
 "cells": [
  {
   "cell_type": "markdown",
   "id": "06a771c0",
   "metadata": {},
   "source": [
    "# CQ Camelopardalis"
   ]
  },
  {
   "cell_type": "markdown",
   "id": "18da4bea",
   "metadata": {},
   "source": [
    "## Descrizione"
   ]
  },
  {
   "cell_type": "code",
   "execution_count": null,
   "id": "dcc07c63",
   "metadata": {},
   "outputs": [],
   "source": []
  },
  {
   "cell_type": "markdown",
   "id": "0a54b42e",
   "metadata": {},
   "source": [
    "## Classificazione"
   ]
  },
  {
   "cell_type": "markdown",
   "id": "cabb4988",
   "metadata": {},
   "source": [
    "Essendo presenti le bande del TiO si può classificare come M\n",
    "\n",
    "Classificazione Simbad: M0II"
   ]
  },
  {
   "cell_type": "markdown",
   "id": "dbd1e6e0",
   "metadata": {},
   "source": [
    "## Osservazioni"
   ]
  },
  {
   "cell_type": "markdown",
   "id": "bed71f1c",
   "metadata": {},
   "source": [
    "- [29/04/2024](../../Osservazioni/20240429/CQ_Cam.html)"
   ]
  }
 ],
 "metadata": {
  "kernelspec": {
   "display_name": "Python 3 (ipykernel)",
   "language": "python",
   "name": "python3"
  },
  "language_info": {
   "codemirror_mode": {
    "name": "ipython",
    "version": 3
   },
   "file_extension": ".py",
   "mimetype": "text/x-python",
   "name": "python",
   "nbconvert_exporter": "python",
   "pygments_lexer": "ipython3",
   "version": "3.11.5"
  }
 },
 "nbformat": 4,
 "nbformat_minor": 5
}
