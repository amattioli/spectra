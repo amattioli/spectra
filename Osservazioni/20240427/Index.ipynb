{
 "cells": [
  {
   "cell_type": "markdown",
   "id": "557b4b4c",
   "metadata": {},
   "source": [
    "# Osservazioni del 27/04/2024"
   ]
  },
  {
   "cell_type": "markdown",
   "id": "ef4cb202",
   "metadata": {},
   "source": [
    "- [Adid Borealis](Adid_Borealis.html)\n",
    "- [Al Fakhbir](Al_Fakhbir.html)\n",
    "- [Alpha Cam](Alpha_Cam.html)\n",
    "- [BE Camelopardalis](BE_Cam.html)\n",
    "- [Gamma Camelopardalis](Gamma_Cam.html)"
   ]
  }
 ],
 "metadata": {
  "kernelspec": {
   "display_name": "Python 3 (ipykernel)",
   "language": "python",
   "name": "python3"
  },
  "language_info": {
   "codemirror_mode": {
    "name": "ipython",
    "version": 3
   },
   "file_extension": ".py",
   "mimetype": "text/x-python",
   "name": "python",
   "nbconvert_exporter": "python",
   "pygments_lexer": "ipython3",
   "version": "3.11.5"
  }
 },
 "nbformat": 4,
 "nbformat_minor": 5
}
