{
 "cells": [
  {
   "cell_type": "markdown",
   "id": "7cb889bc",
   "metadata": {},
   "source": [
    "# HR 1720 in [Camelopardalis](Index.html)"
   ]
  },
  {
   "cell_type": "markdown",
   "id": "ed72c65d",
   "metadata": {},
   "source": [
    "## Descrizione"
   ]
  },
  {
   "cell_type": "markdown",
   "id": "fa677b99",
   "metadata": {},
   "source": [
    " "
   ]
  },
  {
   "cell_type": "markdown",
   "id": "14eeef43",
   "metadata": {},
   "source": [
    "## Classificazione"
   ]
  },
  {
   "cell_type": "markdown",
   "id": "9f842ac7",
   "metadata": {},
   "source": [
    "Classificazione Simbad: K4I"
   ]
  },
  {
   "cell_type": "markdown",
   "id": "cb88fa22",
   "metadata": {},
   "source": [
    "## Osservazioni"
   ]
  },
  {
   "cell_type": "markdown",
   "id": "d7cb868b",
   "metadata": {},
   "source": [
    "- [04/05/2024](../../Osservazioni/20240504/HR1720.html)"
   ]
  }
 ],
 "metadata": {
  "kernelspec": {
   "display_name": "Python 3 (ipykernel)",
   "language": "python",
   "name": "python3"
  },
  "language_info": {
   "codemirror_mode": {
    "name": "ipython",
    "version": 3
   },
   "file_extension": ".py",
   "mimetype": "text/x-python",
   "name": "python",
   "nbconvert_exporter": "python",
   "pygments_lexer": "ipython3",
   "version": "3.11.5"
  }
 },
 "nbformat": 4,
 "nbformat_minor": 5
}
