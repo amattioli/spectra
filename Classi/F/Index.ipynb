{
 "cells": [
  {
   "cell_type": "markdown",
   "id": "882e10ad",
   "metadata": {},
   "source": [
    "# Classe F"
   ]
  },
  {
   "cell_type": "markdown",
   "id": "06edbc23",
   "metadata": {},
   "source": [
    "## F0"
   ]
  },
  {
   "cell_type": "markdown",
   "id": "03b5d773",
   "metadata": {},
   "source": [
    "- [29 UMa](../../Costellazioni/Ursa_Major/29_UMa.html) F0 (F0III?)\n",
    "- [h UMa](../../Costellazioni/Ursa_Major/h_UMa.html) F0V"
   ]
  },
  {
   "cell_type": "markdown",
   "id": "c20e254d",
   "metadata": {},
   "source": [
    "## F1"
   ]
  },
  {
   "cell_type": "markdown",
   "id": "c15a0219",
   "metadata": {},
   "source": [
    "## F2"
   ]
  },
  {
   "cell_type": "markdown",
   "id": "3a584976",
   "metadata": {},
   "source": [
    "## F3"
   ]
  },
  {
   "cell_type": "markdown",
   "id": "8d03a96b",
   "metadata": {},
   "source": [
    "## F4"
   ]
  },
  {
   "cell_type": "markdown",
   "id": "a4f32880",
   "metadata": {},
   "source": [
    "## F5"
   ]
  },
  {
   "cell_type": "markdown",
   "id": "a572fd32",
   "metadata": {},
   "source": [
    "- [Mirfak](../../Costellazioni/Perseus/Mirfak.html) F5I"
   ]
  },
  {
   "cell_type": "markdown",
   "id": "96f6ffcc",
   "metadata": {},
   "source": [
    "## F6"
   ]
  },
  {
   "cell_type": "markdown",
   "id": "926beae5",
   "metadata": {},
   "source": [
    "- [Tau UMa](../../Costellazioni/Ursa_Major/Tau_UMa.html) F6IIIn"
   ]
  },
  {
   "cell_type": "markdown",
   "id": "a79b0a55",
   "metadata": {},
   "source": [
    "## F7"
   ]
  },
  {
   "cell_type": "markdown",
   "id": "a2004640",
   "metadata": {},
   "source": [
    "## F8"
   ]
  },
  {
   "cell_type": "markdown",
   "id": "fe877a2c",
   "metadata": {},
   "source": [
    "- [36 UMa](../../Costellazioni/Ursa_Major/36_UMa.html) F8V"
   ]
  },
  {
   "cell_type": "markdown",
   "id": "58153bb5",
   "metadata": {},
   "source": [
    "## F9"
   ]
  }
 ],
 "metadata": {
  "kernelspec": {
   "display_name": "Python 3 (ipykernel)",
   "language": "python",
   "name": "python3"
  },
  "language_info": {
   "codemirror_mode": {
    "name": "ipython",
    "version": 3
   },
   "file_extension": ".py",
   "mimetype": "text/x-python",
   "name": "python",
   "nbconvert_exporter": "python",
   "pygments_lexer": "ipython3",
   "version": "3.11.5"
  }
 },
 "nbformat": 4,
 "nbformat_minor": 5
}
