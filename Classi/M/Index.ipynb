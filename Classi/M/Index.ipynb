{
 "cells": [
  {
   "cell_type": "markdown",
   "id": "882e10ad",
   "metadata": {},
   "source": [
    "# Classe M"
   ]
  },
  {
   "cell_type": "markdown",
   "id": "38198a16",
   "metadata": {},
   "source": [
    "## M0"
   ]
  },
  {
   "cell_type": "markdown",
   "id": "f614a307",
   "metadata": {},
   "source": [
    "- [CQ Camelopardalis](../../Costellazioni/Camelopardalis/CQ_Cam.html) M0II"
   ]
  },
  {
   "cell_type": "markdown",
   "id": "c20e254d",
   "metadata": {},
   "source": [
    "## M1"
   ]
  },
  {
   "cell_type": "markdown",
   "id": "c15a0219",
   "metadata": {},
   "source": [
    "## M2"
   ]
  },
  {
   "cell_type": "markdown",
   "id": "c8a779f7",
   "metadata": {},
   "source": [
    "- [BE Camelopardalis](../../Costellazioni/Camelopardalis/BE_Cam.html) M2II"
   ]
  },
  {
   "cell_type": "markdown",
   "id": "3a584976",
   "metadata": {},
   "source": [
    "## M3"
   ]
  },
  {
   "cell_type": "markdown",
   "id": "ddf8d947",
   "metadata": {},
   "source": [
    "- [1 Lyn](../../Costellazioni/Lynx/1_Lyn.html) M3III"
   ]
  },
  {
   "cell_type": "markdown",
   "id": "8d03a96b",
   "metadata": {},
   "source": [
    "## M4"
   ]
  },
  {
   "cell_type": "markdown",
   "id": "a4f32880",
   "metadata": {},
   "source": [
    "## M5"
   ]
  },
  {
   "cell_type": "markdown",
   "id": "96f6ffcc",
   "metadata": {},
   "source": [
    "## M6"
   ]
  },
  {
   "cell_type": "markdown",
   "id": "a79b0a55",
   "metadata": {},
   "source": [
    "## M7"
   ]
  },
  {
   "cell_type": "markdown",
   "id": "a2004640",
   "metadata": {},
   "source": [
    "## M8"
   ]
  },
  {
   "cell_type": "markdown",
   "id": "58153bb5",
   "metadata": {},
   "source": [
    "## M9"
   ]
  },
  {
   "cell_type": "markdown",
   "id": "65d54795",
   "metadata": {},
   "source": [
    "## S-Type"
   ]
  },
  {
   "cell_type": "markdown",
   "id": "aac7e964",
   "metadata": {},
   "source": [
    "- [BD Cam](../../Costellazioni/Camelopardalis/BD_Cam.html) S3.5/2"
   ]
  },
  {
   "cell_type": "markdown",
   "id": "3bbf5b60",
   "metadata": {},
   "source": [
    "## Carbon Stars"
   ]
  },
  {
   "cell_type": "markdown",
   "id": "cc2eb338",
   "metadata": {},
   "source": [
    "- [ST Cam](../../Costellazioni/Camelopardalis/ST_Cam.html) C-N5\n",
    "- [Y CVn](../../Costellazioni/Canes_Venatici/Y_CVn.html) C-N5\n",
    "- [VY UMa](../../Costellazioni/Ursa_Major/VY_UMa.html) C-N5"
   ]
  }
 ],
 "metadata": {
  "kernelspec": {
   "display_name": "Python 3 (ipykernel)",
   "language": "python",
   "name": "python3"
  },
  "language_info": {
   "codemirror_mode": {
    "name": "ipython",
    "version": 3
   },
   "file_extension": ".py",
   "mimetype": "text/x-python",
   "name": "python",
   "nbconvert_exporter": "python",
   "pygments_lexer": "ipython3",
   "version": "3.11.5"
  }
 },
 "nbformat": 4,
 "nbformat_minor": 5
}
