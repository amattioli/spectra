{
 "cells": [
  {
   "cell_type": "markdown",
   "id": "4c64ac93",
   "metadata": {},
   "source": [
    "# Camelopardalis"
   ]
  },
  {
   "cell_type": "markdown",
   "id": "e7fd38d7",
   "metadata": {},
   "source": [
    "- [Alpha Cam](Alpha_Cam.html)\n",
    "- [Beta Cam](Beta_Cam.html)\n",
    "- [Gamma Cam](Gamma_Cam.html)\n",
    "- [11 Cam](11_Cam.html)\n",
    "- [36 Cam](36_Cam.html)\n",
    "- [43 Cam](36_Cam.html)\n",
    "- [BD Cam](BD_Cam.html)\n",
    "- [BE Cam](BE_Cam.html)\n",
    "- [BN Cam](BN_Cam.html)\n",
    "- [CE Cam](CE_Cam.html)\n",
    "- [CQ Cam](CQ_Cam.html)\n",
    "- [ST Cam](ST_Cam.html)\n",
    "- [HR 1720](HR1720.html)\n",
    "- [HR 2209](HR2209.html)"
   ]
  }
 ],
 "metadata": {
  "kernelspec": {
   "display_name": "Python 3 (ipykernel)",
   "language": "python",
   "name": "python3"
  },
  "language_info": {
   "codemirror_mode": {
    "name": "ipython",
    "version": 3
   },
   "file_extension": ".py",
   "mimetype": "text/x-python",
   "name": "python",
   "nbconvert_exporter": "python",
   "pygments_lexer": "ipython3",
   "version": "3.11.5"
  }
 },
 "nbformat": 4,
 "nbformat_minor": 5
}
