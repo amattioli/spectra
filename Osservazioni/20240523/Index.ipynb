{
 "cells": [
  {
   "cell_type": "markdown",
   "id": "0f5c1539",
   "metadata": {},
   "source": [
    "# Osservazioni del 10/05/2024"
   ]
  },
  {
   "cell_type": "markdown",
   "id": "1d4dc75a",
   "metadata": {},
   "source": [
    "## Setup"
   ]
  },
  {
   "cell_type": "markdown",
   "id": "2704ddc3",
   "metadata": {},
   "source": [
    "- Ottica: Celestron C8\n",
    "- Montatura: iOptron CEM70\n",
    "- Camera: ZWO ASI533MM Pro\n",
    "- Guida: ZWO 30F4 + ASI585MC\n",
    "- Spettroscopio: Star Analyser 200 + Grism"
   ]
  },
  {
   "cell_type": "markdown",
   "id": "5628e695",
   "metadata": {},
   "source": [
    "## Valutazione Seeing"
   ]
  },
  {
   "cell_type": "markdown",
   "id": "acc0d26e",
   "metadata": {},
   "source": [
    "FWHM (arcsec) calcolata con AstroImageJ sulle stelle non saturate nell'immagine:\n",
    "\n",
    "- 3.70\n",
    "- 3.56\n",
    "- 3.81\n",
    "- 4.34\n",
    "- 4.08\n",
    "- 3.91\n",
    "- 3.81\n",
    "- 3.64\n",
    "- 3.36\n",
    "- 3.69\n",
    "- 3.28\n",
    "- 3.63\n",
    "- 3.83\n",
    "- 3.90\n",
    "- 4.19\n",
    "- 3.66\n",
    "- 3.81\n",
    "- 3.80\n",
    "- 3.54\n",
    "- 3.84\n",
    "- 3.72\n",
    "- 3.70\n",
    "\n",
    "Media 3.76"
   ]
  },
  {
   "cell_type": "markdown",
   "id": "09aa000c",
   "metadata": {},
   "source": [
    "## Osservazioni"
   ]
  },
  {
   "cell_type": "markdown",
   "id": "1c2b88b2",
   "metadata": {},
   "source": [
    "- [43 Cam](43_Cam.html)\n",
    "- [HR2209](HR2209.html)"
   ]
  }
 ],
 "metadata": {
  "kernelspec": {
   "display_name": "Python 3 (ipykernel)",
   "language": "python",
   "name": "python3"
  },
  "language_info": {
   "codemirror_mode": {
    "name": "ipython",
    "version": 3
   },
   "file_extension": ".py",
   "mimetype": "text/x-python",
   "name": "python",
   "nbconvert_exporter": "python",
   "pygments_lexer": "ipython3",
   "version": "3.11.5"
  }
 },
 "nbformat": 4,
 "nbformat_minor": 5
}
