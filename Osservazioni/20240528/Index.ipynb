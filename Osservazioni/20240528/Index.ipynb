{
 "cells": [
  {
   "cell_type": "markdown",
   "id": "0f5c1539",
   "metadata": {},
   "source": [
    "# Osservazioni del 28/05/2024"
   ]
  },
  {
   "cell_type": "markdown",
   "id": "1d4dc75a",
   "metadata": {},
   "source": [
    "## Setup"
   ]
  },
  {
   "cell_type": "markdown",
   "id": "2704ddc3",
   "metadata": {},
   "source": [
    "- Ottica: Celestron C8\n",
    "- Montatura: iOptron CEM70\n",
    "- Camera: ZWO ASI533MM Pro\n",
    "- Guida: ZWO 30F4 + ASI585MC\n",
    "- Spettroscopio: Star Analyser 200 + Grism"
   ]
  },
  {
   "cell_type": "markdown",
   "id": "a2ebd3a1",
   "metadata": {},
   "source": [
    "## Valutazione Seeing"
   ]
  },
  {
   "cell_type": "markdown",
   "id": "de376913",
   "metadata": {},
   "source": [
    "FWHM (arcsec) calcolata con AstroImageJ sulle stelle non saturate nell'immagine:\n",
    "\n",
    "- 4.06\n",
    "- 4.22\n",
    "- 4.01\n",
    "- 3.94\n",
    "- 4.03\n",
    "- 4.25\n",
    "- 4.01\n",
    "- 4.66\n",
    "- 4.17\n",
    "- 4.50\n",
    "- 4.19\n",
    "- 4.33\n",
    "- 4.35\n",
    "- 3.94\n",
    "- 4.16\n",
    "- 4.17\n",
    "- 4.03\n",
    "- 4.72\n",
    "- 4.17\n",
    "- 4.05\n",
    "\n",
    "Media: 4.2"
   ]
  },
  {
   "cell_type": "markdown",
   "id": "09aa000c",
   "metadata": {},
   "source": [
    "## Osservazioni"
   ]
  },
  {
   "cell_type": "markdown",
   "id": "1c2b88b2",
   "metadata": {},
   "source": [
    "- [2 Lyn](2_Lyn.html)"
   ]
  }
 ],
 "metadata": {
  "kernelspec": {
   "display_name": "Python 3 (ipykernel)",
   "language": "python",
   "name": "python3"
  },
  "language_info": {
   "codemirror_mode": {
    "name": "ipython",
    "version": 3
   },
   "file_extension": ".py",
   "mimetype": "text/x-python",
   "name": "python",
   "nbconvert_exporter": "python",
   "pygments_lexer": "ipython3",
   "version": "3.11.5"
  }
 },
 "nbformat": 4,
 "nbformat_minor": 5
}
