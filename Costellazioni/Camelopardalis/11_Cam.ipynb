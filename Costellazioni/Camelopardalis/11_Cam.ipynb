{
 "cells": [
  {
   "cell_type": "markdown",
   "id": "2452dfa8",
   "metadata": {},
   "source": [
    "# 11 [Camelopardalis](Index.html)"
   ]
  },
  {
   "cell_type": "markdown",
   "id": "c7320db5",
   "metadata": {},
   "source": [
    "## Descrizione"
   ]
  },
  {
   "cell_type": "code",
   "execution_count": null,
   "id": "a884c575",
   "metadata": {},
   "outputs": [],
   "source": []
  },
  {
   "cell_type": "markdown",
   "id": "eb87f8c6",
   "metadata": {},
   "source": [
    "## Classificazione"
   ]
  },
  {
   "cell_type": "markdown",
   "id": "afe2c55d",
   "metadata": {},
   "source": [
    "Classificazione Simbad: B3Ve"
   ]
  },
  {
   "cell_type": "markdown",
   "id": "89152680",
   "metadata": {},
   "source": [
    "## Osservazioni"
   ]
  },
  {
   "cell_type": "markdown",
   "id": "e601636b",
   "metadata": {},
   "source": [
    "- [04/05/2024](../../Osservazioni/20240504/11_Cam.html)"
   ]
  }
 ],
 "metadata": {
  "kernelspec": {
   "display_name": "Python 3 (ipykernel)",
   "language": "python",
   "name": "python3"
  },
  "language_info": {
   "codemirror_mode": {
    "name": "ipython",
    "version": 3
   },
   "file_extension": ".py",
   "mimetype": "text/x-python",
   "name": "python",
   "nbconvert_exporter": "python",
   "pygments_lexer": "ipython3",
   "version": "3.11.5"
  }
 },
 "nbformat": 4,
 "nbformat_minor": 5
}
