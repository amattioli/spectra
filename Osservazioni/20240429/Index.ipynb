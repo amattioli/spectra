{
 "cells": [
  {
   "cell_type": "markdown",
   "id": "0d3780f0",
   "metadata": {},
   "source": [
    "# Osservazioni del 29/04/2024"
   ]
  },
  {
   "cell_type": "markdown",
   "id": "01380ae4",
   "metadata": {},
   "source": [
    "## Setup"
   ]
  },
  {
   "cell_type": "markdown",
   "id": "d6916446",
   "metadata": {},
   "source": [
    "- Ottica: Celestron C8\n",
    "- Montatura: iOptron CEM70\n",
    "- Camera: ZWO ASI533MM Pro\n",
    "- Guida: ZWO 30F4 + ASI585MC\n",
    "- Spettroscopio: Star Analyser 200 + Grism"
   ]
  },
  {
   "cell_type": "markdown",
   "id": "0a093e53",
   "metadata": {},
   "source": [
    "## Osservazioni"
   ]
  },
  {
   "cell_type": "markdown",
   "id": "45173539",
   "metadata": {},
   "source": [
    "- [CE Cam](CE_Cam.html)\n",
    "- [CQ Cam](CQ_Cam.html)\n",
    "- [BD Cam](BD_Cam.html)"
   ]
  }
 ],
 "metadata": {
  "kernelspec": {
   "display_name": "Python 3 (ipykernel)",
   "language": "python",
   "name": "python3"
  },
  "language_info": {
   "codemirror_mode": {
    "name": "ipython",
    "version": 3
   },
   "file_extension": ".py",
   "mimetype": "text/x-python",
   "name": "python",
   "nbconvert_exporter": "python",
   "pygments_lexer": "ipython3",
   "version": "3.11.5"
  }
 },
 "nbformat": 4,
 "nbformat_minor": 5
}
