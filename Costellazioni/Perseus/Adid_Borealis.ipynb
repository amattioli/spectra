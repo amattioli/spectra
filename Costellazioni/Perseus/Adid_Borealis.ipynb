{
 "cells": [
  {
   "cell_type": "markdown",
   "id": "95d1c65a",
   "metadata": {},
   "source": [
    "# Adid Borealis"
   ]
  },
  {
   "cell_type": "markdown",
   "id": "e76659bb",
   "metadata": {},
   "source": [
    "## Descrizione"
   ]
  },
  {
   "cell_type": "code",
   "execution_count": null,
   "id": "1fa18ade",
   "metadata": {},
   "outputs": [],
   "source": []
  },
  {
   "cell_type": "markdown",
   "id": "19e24043",
   "metadata": {},
   "source": [
    "## Classificazione"
   ]
  },
  {
   "cell_type": "code",
   "execution_count": null,
   "id": "d9a8e98e",
   "metadata": {},
   "outputs": [],
   "source": []
  },
  {
   "cell_type": "markdown",
   "id": "01a131f4",
   "metadata": {},
   "source": [
    "## Osservazioni"
   ]
  },
  {
   "cell_type": "markdown",
   "id": "c4d8a0aa",
   "metadata": {},
   "source": [
    "- [27/04/2024](../../Osservazioni/20240427/Adid_Borealis.html)"
   ]
  },
  {
   "cell_type": "code",
   "execution_count": null,
   "id": "9acee1b9",
   "metadata": {},
   "outputs": [],
   "source": []
  }
 ],
 "metadata": {
  "kernelspec": {
   "display_name": "Python 3 (ipykernel)",
   "language": "python",
   "name": "python3"
  },
  "language_info": {
   "codemirror_mode": {
    "name": "ipython",
    "version": 3
   },
   "file_extension": ".py",
   "mimetype": "text/x-python",
   "name": "python",
   "nbconvert_exporter": "python",
   "pygments_lexer": "ipython3",
   "version": "3.11.5"
  }
 },
 "nbformat": 4,
 "nbformat_minor": 5
}
