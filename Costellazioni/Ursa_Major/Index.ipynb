{
 "cells": [
  {
   "cell_type": "markdown",
   "id": "f7610c0d",
   "metadata": {},
   "source": [
    "# Ursa Major"
   ]
  },
  {
   "cell_type": "markdown",
   "id": "33cb7ef9",
   "metadata": {},
   "source": [
    "- [Merak - Beta UMa](Merak.html)\n",
    "- [Muscida - Omicron UMa](Muscida.html)\n",
    "- [Tau UMa](Tau_UMa.html)\n",
    "- [h UMa](h_UMa.html)\n",
    "- [Museida - 4 UMa](Museida.html)\n",
    "- [29 UMa](29_UMa.html)"
   ]
  }
 ],
 "metadata": {
  "kernelspec": {
   "display_name": "Python 3 (ipykernel)",
   "language": "python",
   "name": "python3"
  },
  "language_info": {
   "codemirror_mode": {
    "name": "ipython",
    "version": 3
   },
   "file_extension": ".py",
   "mimetype": "text/x-python",
   "name": "python",
   "nbconvert_exporter": "python",
   "pygments_lexer": "ipython3",
   "version": "3.11.5"
  }
 },
 "nbformat": 4,
 "nbformat_minor": 5
}
