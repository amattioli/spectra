{
 "cells": [
  {
   "cell_type": "markdown",
   "id": "bf5e976d",
   "metadata": {},
   "source": [
    "# Al Fakhbir - Gamma Persei"
   ]
  },
  {
   "cell_type": "markdown",
   "id": "64b38558",
   "metadata": {},
   "source": [
    "## Descrizione"
   ]
  },
  {
   "cell_type": "code",
   "execution_count": null,
   "id": "47198786",
   "metadata": {},
   "outputs": [],
   "source": []
  },
  {
   "cell_type": "markdown",
   "id": "8cfe378b",
   "metadata": {},
   "source": [
    "## Classificazione"
   ]
  },
  {
   "cell_type": "markdown",
   "id": "ba35c3ef",
   "metadata": {},
   "source": [
    "A un primo sguardo lo spettro è di difficile interpretazione: presenta sia forti righe della serie di Balmer (ad es. la riga K del Ca II è molto più debole delle righe di Balmer adiacenti) come se fosse una A o una early F, sia forti  righe del ferro come nelle late F e nelle G.\n",
    "\n",
    "Simbad la classifica come G9III+A2-III. Questo perchè in realtà si tratta di una binaria le cui componenti sono di classe differente ma luminosità molto simile. Le luminosità riportate da SkySafari sono di 3.6 e 3.8\n",
    "\n",
    "Sembrerebbe essere una binaria ad eclisse per cui potrebbe essere interessante studiare il cambiamento dello spettro durante l'eclissi. Purtroppo però il periodo indicato dal database AAVSO è di 14.6 anni. Da [un articolo citato da AAVSO](https://ui.adsabs.harvard.edu/abs/1994IAPPP..57...31G/abstract) si capisce inoltre che l'orbita è fortemente ellittica e le eclissi primaria e secondaria avvengono a soltanto un anno di distanza una dall'altra. L'eclissi primaria studiata nell'articolo è del settembre 1990 per cui mi aspetto che ne sia avvenuta un'altra a fine 2020 con la secondaria nel 2021 e che la prossima si verifichi a inizio 2035"
   ]
  },
  {
   "cell_type": "markdown",
   "id": "554abc74",
   "metadata": {},
   "source": [
    "## Osservazioni"
   ]
  },
  {
   "cell_type": "markdown",
   "id": "151f23f0",
   "metadata": {},
   "source": [
    "- [27/04/2024](../../Osservazioni/20240427/Al_Fakhbir.html)"
   ]
  }
 ],
 "metadata": {
  "kernelspec": {
   "display_name": "Python 3 (ipykernel)",
   "language": "python",
   "name": "python3"
  },
  "language_info": {
   "codemirror_mode": {
    "name": "ipython",
    "version": 3
   },
   "file_extension": ".py",
   "mimetype": "text/x-python",
   "name": "python",
   "nbconvert_exporter": "python",
   "pygments_lexer": "ipython3",
   "version": "3.11.5"
  }
 },
 "nbformat": 4,
 "nbformat_minor": 5
}
