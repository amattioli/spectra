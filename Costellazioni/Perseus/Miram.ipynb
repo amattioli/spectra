{
 "cells": [
  {
   "cell_type": "markdown",
   "id": "aa31e24f",
   "metadata": {},
   "source": [
    "# Miram - Eta Persei"
   ]
  },
  {
   "cell_type": "markdown",
   "id": "2617a5cd",
   "metadata": {},
   "source": [
    "## Descrizione"
   ]
  },
  {
   "cell_type": "code",
   "execution_count": null,
   "id": "4fef581f",
   "metadata": {},
   "outputs": [],
   "source": []
  },
  {
   "cell_type": "markdown",
   "id": "bcd9a577",
   "metadata": {},
   "source": [
    "## Classificazione"
   ]
  },
  {
   "cell_type": "code",
   "execution_count": null,
   "id": "8b8b6e95",
   "metadata": {},
   "outputs": [],
   "source": []
  },
  {
   "cell_type": "markdown",
   "id": "6a3997be",
   "metadata": {},
   "source": [
    "## Osservazioni"
   ]
  },
  {
   "cell_type": "markdown",
   "id": "031b5736",
   "metadata": {},
   "source": [
    "- [29/04/2024](../../Osservazioni/20240429/Miram.html)"
   ]
  }
 ],
 "metadata": {
  "kernelspec": {
   "display_name": "Python 3 (ipykernel)",
   "language": "python",
   "name": "python3"
  },
  "language_info": {
   "codemirror_mode": {
    "name": "ipython",
    "version": 3
   },
   "file_extension": ".py",
   "mimetype": "text/x-python",
   "name": "python",
   "nbconvert_exporter": "python",
   "pygments_lexer": "ipython3",
   "version": "3.11.5"
  }
 },
 "nbformat": 4,
 "nbformat_minor": 5
}
