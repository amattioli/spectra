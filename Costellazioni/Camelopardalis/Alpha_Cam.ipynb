{
 "cells": [
  {
   "cell_type": "markdown",
   "id": "13c31dc4",
   "metadata": {},
   "source": [
    "# Alpha Camelopardalis"
   ]
  },
  {
   "cell_type": "markdown",
   "id": "d956cddf",
   "metadata": {},
   "source": [
    "## Descrizione"
   ]
  },
  {
   "cell_type": "code",
   "execution_count": null,
   "id": "5fd878ed",
   "metadata": {},
   "outputs": [],
   "source": []
  },
  {
   "cell_type": "markdown",
   "id": "f7b63535",
   "metadata": {},
   "source": [
    "## Classificazione"
   ]
  },
  {
   "cell_type": "code",
   "execution_count": null,
   "id": "b7546414",
   "metadata": {},
   "outputs": [],
   "source": []
  },
  {
   "cell_type": "markdown",
   "id": "a39b8abe",
   "metadata": {},
   "source": [
    "## Osservazioni"
   ]
  },
  {
   "cell_type": "markdown",
   "id": "98618885",
   "metadata": {},
   "source": [
    "- [27/04/2024](../../Osservazioni/20240427/Alpha_Cam.html)"
   ]
  }
 ],
 "metadata": {
  "kernelspec": {
   "display_name": "Python 3 (ipykernel)",
   "language": "python",
   "name": "python3"
  },
  "language_info": {
   "codemirror_mode": {
    "name": "ipython",
    "version": 3
   },
   "file_extension": ".py",
   "mimetype": "text/x-python",
   "name": "python",
   "nbconvert_exporter": "python",
   "pygments_lexer": "ipython3",
   "version": "3.11.5"
  }
 },
 "nbformat": 4,
 "nbformat_minor": 5
}
