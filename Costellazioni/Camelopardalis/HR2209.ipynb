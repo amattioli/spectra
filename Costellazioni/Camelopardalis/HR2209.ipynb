{
 "cells": [
  {
   "cell_type": "markdown",
   "id": "7cb889bc",
   "metadata": {},
   "source": [
    "# HR 2209 in [Camelopardalis](Index.html)"
   ]
  },
  {
   "cell_type": "markdown",
   "id": "ed72c65d",
   "metadata": {},
   "source": [
    "## Descrizione"
   ]
  },
  {
   "cell_type": "markdown",
   "id": "fa677b99",
   "metadata": {},
   "source": [
    " "
   ]
  },
  {
   "cell_type": "markdown",
   "id": "14eeef43",
   "metadata": {},
   "source": [
    "## Classificazione"
   ]
  },
  {
   "cell_type": "markdown",
   "id": "9f842ac7",
   "metadata": {},
   "source": [
    "Classificazione Simbad: A0Vn"
   ]
  },
  {
   "cell_type": "markdown",
   "id": "cb88fa22",
   "metadata": {},
   "source": [
    "## Osservazioni"
   ]
  },
  {
   "cell_type": "markdown",
   "id": "d7cb868b",
   "metadata": {},
   "source": [
    "- [23/05/2024](../../Osservazioni/20240523/HR2209.html)"
   ]
  }
 ],
 "metadata": {
  "kernelspec": {
   "display_name": "Python 3 (ipykernel)",
   "language": "python",
   "name": "python3"
  },
  "language_info": {
   "codemirror_mode": {
    "name": "ipython",
    "version": 3
   },
   "file_extension": ".py",
   "mimetype": "text/x-python",
   "name": "python",
   "nbconvert_exporter": "python",
   "pygments_lexer": "ipython3",
   "version": "3.11.5"
  }
 },
 "nbformat": 4,
 "nbformat_minor": 5
}
