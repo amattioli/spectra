{
 "cells": [
  {
   "cell_type": "markdown",
   "id": "882e10ad",
   "metadata": {},
   "source": [
    "# Classe B"
   ]
  },
  {
   "cell_type": "markdown",
   "id": "c20e254d",
   "metadata": {},
   "source": [
    "## B1"
   ]
  },
  {
   "cell_type": "markdown",
   "id": "c15a0219",
   "metadata": {},
   "source": [
    "## B2"
   ]
  },
  {
   "cell_type": "markdown",
   "id": "3a584976",
   "metadata": {},
   "source": [
    "## B3"
   ]
  },
  {
   "cell_type": "markdown",
   "id": "997c3358",
   "metadata": {},
   "source": [
    "- [11 Camelopardalis](../../Costellazioni/Camelopardalis/11_Cam.html) B3Ve"
   ]
  },
  {
   "cell_type": "markdown",
   "id": "8d03a96b",
   "metadata": {},
   "source": [
    "## B4"
   ]
  },
  {
   "cell_type": "markdown",
   "id": "a4f32880",
   "metadata": {},
   "source": [
    "## B5"
   ]
  },
  {
   "cell_type": "markdown",
   "id": "fb08677c",
   "metadata": {},
   "source": [
    "- [Adid Borealis](../../Costellazioni/Perseus/Adid_Borealis.html) B5III"
   ]
  },
  {
   "cell_type": "markdown",
   "id": "96f6ffcc",
   "metadata": {},
   "source": [
    "## B6"
   ]
  },
  {
   "cell_type": "markdown",
   "id": "a79b0a55",
   "metadata": {},
   "source": [
    "## B7"
   ]
  },
  {
   "cell_type": "markdown",
   "id": "326e6eb4",
   "metadata": {},
   "source": [
    "- [43 Camelopardalis](../../Costellazioni/Camelopardalis/43_Cam.html) B7III"
   ]
  },
  {
   "cell_type": "markdown",
   "id": "fe194df5",
   "metadata": {},
   "source": [
    "## B8"
   ]
  },
  {
   "cell_type": "markdown",
   "id": "018f30a7",
   "metadata": {},
   "source": [
    "## B9"
   ]
  },
  {
   "cell_type": "markdown",
   "id": "24891913",
   "metadata": {},
   "source": [
    "- [BN Camelopardalis](../../Costellazioni/Camelopardalis/BN_Cam.html) B9.5VpSi"
   ]
  }
 ],
 "metadata": {
  "kernelspec": {
   "display_name": "Python 3 (ipykernel)",
   "language": "python",
   "name": "python3"
  },
  "language_info": {
   "codemirror_mode": {
    "name": "ipython",
    "version": 3
   },
   "file_extension": ".py",
   "mimetype": "text/x-python",
   "name": "python",
   "nbconvert_exporter": "python",
   "pygments_lexer": "ipython3",
   "version": "3.11.5"
  }
 },
 "nbformat": 4,
 "nbformat_minor": 5
}
