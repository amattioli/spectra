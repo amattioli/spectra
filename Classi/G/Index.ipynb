{
 "cells": [
  {
   "cell_type": "markdown",
   "id": "882e10ad",
   "metadata": {},
   "source": [
    "# Classe G"
   ]
  },
  {
   "cell_type": "markdown",
   "id": "c71b1421",
   "metadata": {},
   "source": [
    "## G0"
   ]
  },
  {
   "cell_type": "markdown",
   "id": "0ddb7be8",
   "metadata": {},
   "source": [
    "- [Chara](../../Costellazioni/Canes_Venatici/Chara.html) G0V"
   ]
  },
  {
   "cell_type": "markdown",
   "id": "c20e254d",
   "metadata": {},
   "source": [
    "## G1"
   ]
  },
  {
   "cell_type": "markdown",
   "id": "d1da8d2a",
   "metadata": {},
   "source": [
    "- [Beta Camelopardalis](../../Costellazioni/Camelopardalis/Beta_Cam.html) G1Ib"
   ]
  },
  {
   "cell_type": "markdown",
   "id": "c15a0219",
   "metadata": {},
   "source": [
    "## G2"
   ]
  },
  {
   "cell_type": "markdown",
   "id": "3a584976",
   "metadata": {},
   "source": [
    "## G3"
   ]
  },
  {
   "cell_type": "markdown",
   "id": "8d03a96b",
   "metadata": {},
   "source": [
    "## G4"
   ]
  },
  {
   "cell_type": "markdown",
   "id": "a4f32880",
   "metadata": {},
   "source": [
    "## G5"
   ]
  },
  {
   "cell_type": "markdown",
   "id": "cd853474",
   "metadata": {},
   "source": [
    "- [Muscida](../../Costellazioni/Ursa_Major/Muscida.html) G5IIIn"
   ]
  },
  {
   "cell_type": "markdown",
   "id": "96f6ffcc",
   "metadata": {},
   "source": [
    "## G6"
   ]
  },
  {
   "cell_type": "markdown",
   "id": "a79b0a55",
   "metadata": {},
   "source": [
    "## G7"
   ]
  },
  {
   "cell_type": "markdown",
   "id": "a2004640",
   "metadata": {},
   "source": [
    "## G8"
   ]
  },
  {
   "cell_type": "markdown",
   "id": "58153bb5",
   "metadata": {},
   "source": [
    "## G9"
   ]
  },
  {
   "cell_type": "markdown",
   "id": "99a9988f",
   "metadata": {},
   "source": [
    "- [Dubhe](../../Costellazioni/Ursa_Major/Dubhe.html) G9III"
   ]
  }
 ],
 "metadata": {
  "kernelspec": {
   "display_name": "Python 3 (ipykernel)",
   "language": "python",
   "name": "python3"
  },
  "language_info": {
   "codemirror_mode": {
    "name": "ipython",
    "version": 3
   },
   "file_extension": ".py",
   "mimetype": "text/x-python",
   "name": "python",
   "nbconvert_exporter": "python",
   "pygments_lexer": "ipython3",
   "version": "3.11.5"
  }
 },
 "nbformat": 4,
 "nbformat_minor": 5
}
