{
 "cells": [
  {
   "cell_type": "markdown",
   "id": "882e10ad",
   "metadata": {},
   "source": [
    "# Classe K"
   ]
  },
  {
   "cell_type": "markdown",
   "id": "5d8bbe26",
   "metadata": {},
   "source": [
    "## K0"
   ]
  },
  {
   "cell_type": "markdown",
   "id": "e39351c6",
   "metadata": {},
   "source": [
    "- [Delta Aurigae](../../Costellazioni/Auriga/Delta_Aur.html) K0IIIb"
   ]
  },
  {
   "cell_type": "markdown",
   "id": "c20e254d",
   "metadata": {},
   "source": [
    "## K1"
   ]
  },
  {
   "cell_type": "markdown",
   "id": "955a16f4",
   "metadata": {},
   "source": [
    "- [Museida](../../Costellazioni/Ursa_Major/Museida.html) K1III\n",
    "- [36 Camelopardalis](../../Costellazioni/Camelopardalis/36_Cam.html) K1III-IIIbCH-0.5"
   ]
  },
  {
   "cell_type": "markdown",
   "id": "c15a0219",
   "metadata": {},
   "source": [
    "## K2"
   ]
  },
  {
   "cell_type": "markdown",
   "id": "3a584976",
   "metadata": {},
   "source": [
    "## K3"
   ]
  },
  {
   "cell_type": "markdown",
   "id": "8d03a96b",
   "metadata": {},
   "source": [
    "## K4"
   ]
  },
  {
   "cell_type": "markdown",
   "id": "bd4d85fb",
   "metadata": {},
   "source": [
    "- [HR 1720](../../Costellazioni/Camelopardalis/HR1720.html) K4I"
   ]
  },
  {
   "cell_type": "markdown",
   "id": "a4f32880",
   "metadata": {},
   "source": [
    "## K5"
   ]
  },
  {
   "cell_type": "markdown",
   "id": "96f6ffcc",
   "metadata": {},
   "source": [
    "## K6"
   ]
  },
  {
   "cell_type": "markdown",
   "id": "a79b0a55",
   "metadata": {},
   "source": [
    "## K7"
   ]
  },
  {
   "cell_type": "markdown",
   "id": "a2004640",
   "metadata": {},
   "source": [
    "## K8"
   ]
  },
  {
   "cell_type": "markdown",
   "id": "58153bb5",
   "metadata": {},
   "source": [
    "## K9"
   ]
  }
 ],
 "metadata": {
  "kernelspec": {
   "display_name": "Python 3 (ipykernel)",
   "language": "python",
   "name": "python3"
  },
  "language_info": {
   "codemirror_mode": {
    "name": "ipython",
    "version": 3
   },
   "file_extension": ".py",
   "mimetype": "text/x-python",
   "name": "python",
   "nbconvert_exporter": "python",
   "pygments_lexer": "ipython3",
   "version": "3.11.5"
  }
 },
 "nbformat": 4,
 "nbformat_minor": 5
}
