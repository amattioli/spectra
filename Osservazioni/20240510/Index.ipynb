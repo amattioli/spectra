{
 "cells": [
  {
   "cell_type": "markdown",
   "id": "0f5c1539",
   "metadata": {},
   "source": [
    "# Osservazioni del 10/05/2024"
   ]
  },
  {
   "cell_type": "markdown",
   "id": "1d4dc75a",
   "metadata": {},
   "source": [
    "## Setup"
   ]
  },
  {
   "cell_type": "markdown",
   "id": "2704ddc3",
   "metadata": {},
   "source": [
    "- Ottica: Celestron C8\n",
    "- Montatura: iOptron CEM70\n",
    "- Camera: ZWO ASI533MM Pro\n",
    "- Guida: ZWO 30F4 + ASI585MC\n",
    "- Spettroscopio: Star Analyser 200 + Grism"
   ]
  },
  {
   "cell_type": "markdown",
   "id": "5628e695",
   "metadata": {},
   "source": [
    "## Valutazione Seeing"
   ]
  },
  {
   "cell_type": "markdown",
   "id": "acc0d26e",
   "metadata": {},
   "source": [
    "FWHM (arcsec) calcolata con AstroImageJ sulle stelle non saturate nell'immagine:\n",
    "\n",
    "- 3.40\n",
    "- 3.33\n",
    "- 3.37\n",
    "- 3.15\n",
    "- 3.10\n",
    "- 3.08\n",
    "- 2.99\n",
    "- 3.31\n",
    "- 3.05\n",
    "- 3.54\n",
    "- 2.78\n",
    "- 2.89\n",
    "- 2.80\n",
    "- 2.66\n",
    "- 2.78\n",
    "- 3.28\n",
    "- 2.87\n",
    "\n",
    "Media 3.08"
   ]
  },
  {
   "cell_type": "markdown",
   "id": "09aa000c",
   "metadata": {},
   "source": [
    "## Osservazioni"
   ]
  },
  {
   "cell_type": "markdown",
   "id": "1c2b88b2",
   "metadata": {},
   "source": [
    "- [Beta Cam](Beta_Cam.html)\n",
    "- [BN Cam](BN_Cam.html)\n",
    "- [ST Cam](ST_Cam.html)"
   ]
  }
 ],
 "metadata": {
  "kernelspec": {
   "display_name": "Python 3 (ipykernel)",
   "language": "python",
   "name": "python3"
  },
  "language_info": {
   "codemirror_mode": {
    "name": "ipython",
    "version": 3
   },
   "file_extension": ".py",
   "mimetype": "text/x-python",
   "name": "python",
   "nbconvert_exporter": "python",
   "pygments_lexer": "ipython3",
   "version": "3.11.5"
  }
 },
 "nbformat": 4,
 "nbformat_minor": 5
}
