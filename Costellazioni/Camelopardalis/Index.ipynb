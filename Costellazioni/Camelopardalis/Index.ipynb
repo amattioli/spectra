{
 "cells": [
  {
   "cell_type": "markdown",
   "id": "4c64ac93",
   "metadata": {},
   "source": [
    "# Camelopardus"
   ]
  },
  {
   "cell_type": "markdown",
   "id": "e7fd38d7",
   "metadata": {},
   "source": [
    "- [Alpha Cam](Alpha_Cam.html)\n",
    "- [Beta Cam](Beta_Cam.html)\n",
    "- [Gamma Cam](Gamma_Cam.html)\n",
    "- [BE Cam](BE_Cam.html)\n",
    "- [CQ Cam](CQ_Cam.html)"
   ]
  },
  {
   "cell_type": "code",
   "execution_count": null,
   "id": "035ed643",
   "metadata": {},
   "outputs": [],
   "source": []
  }
 ],
 "metadata": {
  "kernelspec": {
   "display_name": "Python 3 (ipykernel)",
   "language": "python",
   "name": "python3"
  },
  "language_info": {
   "codemirror_mode": {
    "name": "ipython",
    "version": 3
   },
   "file_extension": ".py",
   "mimetype": "text/x-python",
   "name": "python",
   "nbconvert_exporter": "python",
   "pygments_lexer": "ipython3",
   "version": "3.11.5"
  }
 },
 "nbformat": 4,
 "nbformat_minor": 5
}
