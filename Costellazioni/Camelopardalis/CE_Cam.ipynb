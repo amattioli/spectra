{
 "cells": [
  {
   "cell_type": "markdown",
   "id": "5ef26fc0",
   "metadata": {},
   "source": [
    "# CE [Camelopardalis](Index.html)"
   ]
  },
  {
   "cell_type": "markdown",
   "id": "97dd8963",
   "metadata": {},
   "source": [
    "## Descrizione"
   ]
  },
  {
   "cell_type": "markdown",
   "id": "312735bc",
   "metadata": {},
   "source": [
    "Pur essendo una A0 le righe dell'idrogeno sono fortemente ridotte. Halfa si vede a malapena!\n",
    "\n",
    "La stella è immersa in una nube molecolare. Può essere questa la causa?"
   ]
  },
  {
   "cell_type": "markdown",
   "id": "5d1b5c52",
   "metadata": {},
   "source": [
    "## Classificazione"
   ]
  },
  {
   "cell_type": "code",
   "execution_count": null,
   "id": "95ed5d72",
   "metadata": {},
   "outputs": [],
   "source": []
  },
  {
   "cell_type": "markdown",
   "id": "94737155",
   "metadata": {},
   "source": [
    "## Osservazioni"
   ]
  },
  {
   "cell_type": "markdown",
   "id": "49246d64",
   "metadata": {},
   "source": [
    "- [29/04/2024](../../Osservazioni/20240429/CE_Cam.html)"
   ]
  }
 ],
 "metadata": {
  "kernelspec": {
   "display_name": "Python 3 (ipykernel)",
   "language": "python",
   "name": "python3"
  },
  "language_info": {
   "codemirror_mode": {
    "name": "ipython",
    "version": 3
   },
   "file_extension": ".py",
   "mimetype": "text/x-python",
   "name": "python",
   "nbconvert_exporter": "python",
   "pygments_lexer": "ipython3",
   "version": "3.11.5"
  }
 },
 "nbformat": 4,
 "nbformat_minor": 5
}
