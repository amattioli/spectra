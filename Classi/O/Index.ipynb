{
 "cells": [
  {
   "cell_type": "markdown",
   "id": "882e10ad",
   "metadata": {},
   "source": [
    "# Classe O"
   ]
  },
  {
   "cell_type": "markdown",
   "id": "c20e254d",
   "metadata": {},
   "source": [
    "## O1"
   ]
  },
  {
   "cell_type": "markdown",
   "id": "c15a0219",
   "metadata": {},
   "source": [
    "## O2"
   ]
  },
  {
   "cell_type": "markdown",
   "id": "3a584976",
   "metadata": {},
   "source": [
    "## O3"
   ]
  },
  {
   "cell_type": "markdown",
   "id": "8d03a96b",
   "metadata": {},
   "source": [
    "## O4"
   ]
  },
  {
   "cell_type": "markdown",
   "id": "a4f32880",
   "metadata": {},
   "source": [
    "## O5"
   ]
  },
  {
   "cell_type": "markdown",
   "id": "96f6ffcc",
   "metadata": {},
   "source": [
    "## O6"
   ]
  },
  {
   "cell_type": "markdown",
   "id": "a79b0a55",
   "metadata": {},
   "source": [
    "## O7"
   ]
  },
  {
   "cell_type": "markdown",
   "id": "a2004640",
   "metadata": {},
   "source": [
    "## O8"
   ]
  },
  {
   "cell_type": "markdown",
   "id": "58153bb5",
   "metadata": {},
   "source": [
    "## O9"
   ]
  },
  {
   "cell_type": "markdown",
   "id": "169ee110",
   "metadata": {},
   "source": [
    "- [Alpha Camelopardalis](../../Costellazioni/Camelopardalis/Alpha_Cam.html) O9Ia"
   ]
  }
 ],
 "metadata": {
  "kernelspec": {
   "display_name": "Python 3 (ipykernel)",
   "language": "python",
   "name": "python3"
  },
  "language_info": {
   "codemirror_mode": {
    "name": "ipython",
    "version": 3
   },
   "file_extension": ".py",
   "mimetype": "text/x-python",
   "name": "python",
   "nbconvert_exporter": "python",
   "pygments_lexer": "ipython3",
   "version": "3.11.5"
  }
 },
 "nbformat": 4,
 "nbformat_minor": 5
}
