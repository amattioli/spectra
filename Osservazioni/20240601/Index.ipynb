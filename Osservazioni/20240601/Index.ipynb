{
 "cells": [
  {
   "cell_type": "markdown",
   "id": "0f5c1539",
   "metadata": {},
   "source": [
    "# Osservazioni del 01/06/2024"
   ]
  },
  {
   "cell_type": "markdown",
   "id": "1d4dc75a",
   "metadata": {},
   "source": [
    "## Setup"
   ]
  },
  {
   "cell_type": "markdown",
   "id": "2704ddc3",
   "metadata": {},
   "source": [
    "- Ottica: Celestron C8\n",
    "- Montatura: iOptron CEM70\n",
    "- Camera: ZWO ASI533MM Pro\n",
    "- Guida: ZWO 30F4 + ASI585MC\n",
    "- Spettroscopio: Star Analyser 200 + Grism"
   ]
  },
  {
   "cell_type": "markdown",
   "id": "a2ebd3a1",
   "metadata": {},
   "source": [
    "## Valutazione Seeing"
   ]
  },
  {
   "cell_type": "markdown",
   "id": "de376913",
   "metadata": {},
   "source": [
    "FWHM (arcsec) calcolata con AstroImageJ sulle stelle non saturate nell'immagine:\n",
    "\n",
    "- 3.64\n",
    "- 3.91\n",
    "- 3.81\n",
    "- 3.79\n",
    "- 3.67\n",
    "- 3.82\n",
    "- 3.77\n",
    "- 3.80\n",
    "- 3.71\n",
    "- 3.59\n",
    "- 3.62\n",
    "- 3.81\n",
    "- 4.01\n",
    "- 3.80\n",
    "- 4.06\n",
    "- 4.14\n",
    "- 3.71\n",
    "- 4.32\n",
    "- 3.95\n",
    "- 4.15\n",
    "- 4.13\n",
    "- 3.78\n",
    "- 3.87\n",
    "- 4.32\n",
    "\n",
    "\n",
    "Media: 3.9"
   ]
  },
  {
   "cell_type": "markdown",
   "id": "09aa000c",
   "metadata": {},
   "source": [
    "## Osservazioni"
   ]
  },
  {
   "cell_type": "markdown",
   "id": "1c2b88b2",
   "metadata": {},
   "source": [
    "- [1 Lyn](1_Lyn.html)\n",
    "- [2 Lyn](2_Lyn.html)\n",
    "- [Tau UMa](Tau_UMa.html)"
   ]
  }
 ],
 "metadata": {
  "kernelspec": {
   "display_name": "Python 3 (ipykernel)",
   "language": "python",
   "name": "python3"
  },
  "language_info": {
   "codemirror_mode": {
    "name": "ipython",
    "version": 3
   },
   "file_extension": ".py",
   "mimetype": "text/x-python",
   "name": "python",
   "nbconvert_exporter": "python",
   "pygments_lexer": "ipython3",
   "version": "3.11.5"
  }
 },
 "nbformat": 4,
 "nbformat_minor": 5
}
