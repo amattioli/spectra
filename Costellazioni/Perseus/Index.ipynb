{
 "cells": [
  {
   "cell_type": "markdown",
   "id": "f7610c0d",
   "metadata": {},
   "source": [
    "# Perseus"
   ]
  },
  {
   "cell_type": "markdown",
   "id": "33cb7ef9",
   "metadata": {},
   "source": [
    "- [Mirfak - Alpha Per](Mirfak.html)\n",
    "- [Al Fakhbir - Gamma Per](Al_Fakhbir.html)\n",
    "- [Adid Borealis - Delta Per](Adid_Borealis.html)\n",
    "- [Miram - Eta Per](Miram.html)"
   ]
  }
 ],
 "metadata": {
  "kernelspec": {
   "display_name": "Python 3 (ipykernel)",
   "language": "python",
   "name": "python3"
  },
  "language_info": {
   "codemirror_mode": {
    "name": "ipython",
    "version": 3
   },
   "file_extension": ".py",
   "mimetype": "text/x-python",
   "name": "python",
   "nbconvert_exporter": "python",
   "pygments_lexer": "ipython3",
   "version": "3.11.5"
  }
 },
 "nbformat": 4,
 "nbformat_minor": 5
}
