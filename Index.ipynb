{
 "cells": [
  {
   "cell_type": "markdown",
   "id": "9a52f92b",
   "metadata": {},
   "source": [
    "# Spettroscopia"
   ]
  },
  {
   "cell_type": "markdown",
   "id": "63a37d51",
   "metadata": {},
   "source": [
    "## Costellazioni"
   ]
  },
  {
   "cell_type": "markdown",
   "id": "5a247cc5",
   "metadata": {},
   "source": [
    "- [Perseus](Costellazioni/Perseus/Index.html)"
   ]
  },
  {
   "cell_type": "code",
   "execution_count": null,
   "id": "470a7380",
   "metadata": {},
   "outputs": [],
   "source": []
  }
 ],
 "metadata": {
  "kernelspec": {
   "display_name": "Python 3 (ipykernel)",
   "language": "python",
   "name": "python3"
  },
  "language_info": {
   "codemirror_mode": {
    "name": "ipython",
    "version": 3
   },
   "file_extension": ".py",
   "mimetype": "text/x-python",
   "name": "python",
   "nbconvert_exporter": "python",
   "pygments_lexer": "ipython3",
   "version": "3.11.5"
  }
 },
 "nbformat": 4,
 "nbformat_minor": 5
}
