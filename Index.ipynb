{
 "cells": [
  {
   "cell_type": "markdown",
   "id": "9a52f92b",
   "metadata": {},
   "source": [
    "# Spettroscopia"
   ]
  },
  {
   "cell_type": "markdown",
   "id": "bb20b100",
   "metadata": {},
   "source": [
    "## Classi Spettrali"
   ]
  },
  {
   "cell_type": "markdown",
   "id": "b5dd67e9",
   "metadata": {},
   "source": [
    "- [O](Classi/O/Index.html)\n",
    "- [B](Classi/B/Index.html)\n",
    "- [A](Classi/A/Index.html)\n",
    "- [F](Classi/F/Index.html)\n",
    "- [G](Classi/G/Index.html)\n",
    "- [K](Classi/K/Index.html)\n",
    "- [M](Classi/M/Index.html)"
   ]
  },
  {
   "cell_type": "markdown",
   "id": "63a37d51",
   "metadata": {},
   "source": [
    "## Costellazioni"
   ]
  },
  {
   "cell_type": "markdown",
   "id": "5a247cc5",
   "metadata": {},
   "source": [
    "- [Auriga](Costellazioni/Auriga/Index.html)\n",
    "- [Camelopardalis](Costellazioni/Camelopardalis/Index.html)\n",
    "- [Canes Venatici](Costellazioni/Canes_Venatici/Index.html)\n",
    "- [Lynx](Costellazioni/Lynx/Index.html)\n",
    "- [Perseus](Costellazioni/Perseus/Index.html)\n",
    "- [Ursa Major](Costellazioni/Ursa_Major/Index.html)"
   ]
  },
  {
   "cell_type": "markdown",
   "id": "016e941d",
   "metadata": {},
   "source": [
    "## Osservazioni"
   ]
  },
  {
   "cell_type": "markdown",
   "id": "07127a38",
   "metadata": {},
   "source": [
    "- [27/04/2024](Osservazioni/20240427/Index.html)\n",
    "- [28/04/2024](Osservazioni/20240428/Index.html)\n",
    "- [29/04/2024](Osservazioni/20240429/Index.html)\n",
    "- [04/05/2024](Osservazioni/20240504/Index.html)\n",
    "- [10/05/2024](Osservazioni/20240510/Index.html)\n",
    "- [23/05/2024](Osservazioni/20240523/Index.html)\n",
    "- [26/05/2024](Osservazioni/20240526/Index.html)\n",
    "- [28/05/2024](Osservazioni/20240528/Index.html)\n",
    "- [01/06/2024](Osservazioni/20240601/Index.html)\n",
    "- [16/06/2024](Osservazioni/20240616/Index.html)\n",
    "- [17/06/2024](Osservazioni/20240617/Index.html)\n",
    "- [22/06/2024](Osservazioni/20240622/Index.html)\n",
    "- [11/07/2024](Osservazioni/20240711/Index.html)"
   ]
  }
 ],
 "metadata": {
  "kernelspec": {
   "display_name": "Python 3 (ipykernel)",
   "language": "python",
   "name": "python3"
  },
  "language_info": {
   "codemirror_mode": {
    "name": "ipython",
    "version": 3
   },
   "file_extension": ".py",
   "mimetype": "text/x-python",
   "name": "python",
   "nbconvert_exporter": "python",
   "pygments_lexer": "ipython3",
   "version": "3.11.5"
  }
 },
 "nbformat": 4,
 "nbformat_minor": 5
}
