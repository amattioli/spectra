{
 "cells": [
  {
   "cell_type": "markdown",
   "id": "9a52f92b",
   "metadata": {},
   "source": [
    "# Spettroscopia"
   ]
  },
  {
   "cell_type": "markdown",
   "id": "63a37d51",
   "metadata": {},
   "source": [
    "## Costellazioni"
   ]
  },
  {
   "cell_type": "markdown",
   "id": "5a247cc5",
   "metadata": {},
   "source": [
    "- [Camelopardalis](Costellazioni/Camelopardalis/Index.html)\n",
    "- [Perseus](Costellazioni/Perseus/Index.html)"
   ]
  },
  {
   "cell_type": "markdown",
   "id": "016e941d",
   "metadata": {},
   "source": [
    "## Osservazioni"
   ]
  },
  {
   "cell_type": "markdown",
   "id": "07127a38",
   "metadata": {},
   "source": [
    "- [27/04/2024](Osservazioni/20240427/Index.html)\n",
    "- [28/04/2024](Osservazioni/20240428/Index.html)\n",
    "- [29/04/2024](Osservazioni/20240429/Index.html)\n",
    "- [04/05/2024](Osservazioni/20240504/Index.html)"
   ]
  }
 ],
 "metadata": {
  "kernelspec": {
   "display_name": "Python 3 (ipykernel)",
   "language": "python",
   "name": "python3"
  },
  "language_info": {
   "codemirror_mode": {
    "name": "ipython",
    "version": 3
   },
   "file_extension": ".py",
   "mimetype": "text/x-python",
   "name": "python",
   "nbconvert_exporter": "python",
   "pygments_lexer": "ipython3",
   "version": "3.11.5"
  }
 },
 "nbformat": 4,
 "nbformat_minor": 5
}
