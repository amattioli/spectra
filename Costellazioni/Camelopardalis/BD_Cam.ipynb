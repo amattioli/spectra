{
 "cells": [
  {
   "cell_type": "markdown",
   "id": "eb794f38",
   "metadata": {},
   "source": [
    "# BD Camelopardalis"
   ]
  },
  {
   "cell_type": "markdown",
   "id": "2f77a765",
   "metadata": {},
   "source": [
    "## Descrizione"
   ]
  },
  {
   "cell_type": "code",
   "execution_count": null,
   "id": "f16e042a",
   "metadata": {},
   "outputs": [],
   "source": []
  },
  {
   "cell_type": "markdown",
   "id": "8bc519f9",
   "metadata": {},
   "source": [
    "## Classificazione"
   ]
  },
  {
   "cell_type": "markdown",
   "id": "ea32a579",
   "metadata": {},
   "source": [
    "Sono presenti sia bande del TiO che del ZrO dunque può essere classificata come S\n",
    "\n",
    "Classificazione Simbad: S3.5/2"
   ]
  },
  {
   "cell_type": "markdown",
   "id": "43532019",
   "metadata": {},
   "source": [
    "## Osservazioni"
   ]
  },
  {
   "cell_type": "markdown",
   "id": "c2db64a8",
   "metadata": {},
   "source": [
    "- [29/04/2024](../../Osservazioni/20240429/BD_Cam.html)"
   ]
  }
 ],
 "metadata": {
  "kernelspec": {
   "display_name": "Python 3 (ipykernel)",
   "language": "python",
   "name": "python3"
  },
  "language_info": {
   "codemirror_mode": {
    "name": "ipython",
    "version": 3
   },
   "file_extension": ".py",
   "mimetype": "text/x-python",
   "name": "python",
   "nbconvert_exporter": "python",
   "pygments_lexer": "ipython3",
   "version": "3.11.5"
  }
 },
 "nbformat": 4,
 "nbformat_minor": 5
}
